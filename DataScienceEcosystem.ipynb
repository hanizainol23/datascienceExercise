{
  "nbformat": 4,
  "nbformat_minor": 0,
  "metadata": {
    "colab": {
      "provenance": [],
      "toc_visible": true
    },
    "kernelspec": {
      "name": "python3",
      "display_name": "Python 3"
    },
    "language_info": {
      "name": "python"
    }
  },
  "cells": [
    {
      "cell_type": "code",
      "execution_count": null,
      "metadata": {
        "id": "yoPtXhCUfHOn"
      },
      "outputs": [],
      "source": [
        "#Title DataScienceEcosystem"
      ]
    },
    {
      "cell_type": "markdown",
      "source": [
        "# Title DataScienceEcosystem"
      ],
      "metadata": {
        "id": "pTgWtSdpfnmh"
      }
    },
    {
      "cell_type": "markdown",
      "source": [
        "This notebook is about Data Science Tools and Ecosystem Summary"
      ],
      "metadata": {
        "id": "ngmsuey_gHR0"
      }
    },
    {
      "cell_type": "markdown",
      "source": [
        "# Some of the data science language are :\n",
        "1. R\n",
        "1. Python\n",
        "1. SQL\n",
        "1. Julia"
      ],
      "metadata": {
        "id": "VhaYvE31gkBg"
      }
    },
    {
      "cell_type": "markdown",
      "source": [
        "# Some of libraries used by data scientist are:\n",
        "1. TensorFlow\n",
        "1. NumPy\n",
        "1. SciPy\n",
        "1. Matplotlib \n",
        "1. Pandas"
      ],
      "metadata": {
        "id": "-0aCVyBlhiSA"
      }
    },
    {
      "cell_type": "markdown",
      "source": [
        "|Data Science Tools|\n",
        "--------------------\n",
        "|MATLAB|\n",
        "|ggplot|\n",
        "|Tableau|"
      ],
      "metadata": {
        "id": "ra5CsEo9hEj1"
      }
    },
    {
      "cell_type": "markdown",
      "source": [
        "Below is some examples of arithmetic expressions in Python\n",
        "\n"
      ],
      "metadata": {
        "id": "-039bgxyjDl-"
      }
    },
    {
      "cell_type": "code",
      "source": [
        "(2*4)+9"
      ],
      "metadata": {
        "colab": {
          "base_uri": "https://localhost:8080/"
        },
        "id": "bdFsQ_TAjfHI",
        "outputId": "088d4343-837f-4e3c-d4f2-ab78fbbd5ca1"
      },
      "execution_count": null,
      "outputs": [
        {
          "output_type": "execute_result",
          "data": {
            "text/plain": [
              "17"
            ]
          },
          "metadata": {},
          "execution_count": 2
        }
      ]
    },
    {
      "cell_type": "markdown",
      "source": [
        "Below is to convert minutes to hour"
      ],
      "metadata": {
        "id": "lfSL7MRRjq3v"
      }
    },
    {
      "cell_type": "code",
      "source": [
        "360/60"
      ],
      "metadata": {
        "colab": {
          "base_uri": "https://localhost:8080/"
        },
        "id": "B5G_jToWlSga",
        "outputId": "375b6b1c-5e69-4d22-cc4c-115446fa5054"
      },
      "execution_count": null,
      "outputs": [
        {
          "output_type": "execute_result",
          "data": {
            "text/plain": [
              "6.0"
            ]
          },
          "metadata": {},
          "execution_count": 3
        }
      ]
    },
    {
      "cell_type": "markdown",
      "source": [
        "## This section to list the objectives\n",
        "**Objective**\n",
        "1. List of popular language use in data science.\n",
        "- R\n",
        "- Python\n",
        "- Julia\n",
        "\n",
        "2. List of popular libraries\n",
        "- Matplotlib\n",
        "- SciPy\n",
        "- Numpy"
      ],
      "metadata": {
        "id": "tPEWIc6hmLv5"
      }
    },
    {
      "cell_type": "markdown",
      "source": [
        "## Author Hani Zainol"
      ],
      "metadata": {
        "id": "RCcwEGaWnMf5"
      }
    }
  ]
}